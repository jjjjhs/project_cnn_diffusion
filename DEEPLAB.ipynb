{
  "cells": [
    {
      "cell_type": "markdown",
      "metadata": {
        "id": "view-in-github",
        "colab_type": "text"
      },
      "source": [
        "<a href=\"https://colab.research.google.com/github/jjjjhs/project_cnn_diffusion/blob/deeplabv3/DEEPLAB.ipynb\" target=\"_parent\"><img src=\"https://colab.research.google.com/assets/colab-badge.svg\" alt=\"Open In Colab\"/></a>"
      ]
    },
    {
      "cell_type": "markdown",
      "metadata": {
        "id": "6p0qBYK-mPQt"
      },
      "source": [
        "# Colab 세팅 셀 (필수 라이브러리 + GPU 확인)"
      ]
    },
    {
      "cell_type": "code",
      "execution_count": null,
      "metadata": {
        "colab": {
          "base_uri": "https://localhost:8080/"
        },
        "collapsed": true,
        "id": "OHiJTBzxRJm4",
        "outputId": "6d14eb4e-797c-4565-8aa0-b8b19650f54f"
      },
      "outputs": [
        {
          "output_type": "stream",
          "name": "stdout",
          "text": [
            "Requirement already satisfied: torch in /usr/local/lib/python3.11/dist-packages (2.6.0+cu124)\n",
            "Requirement already satisfied: torchvision in /usr/local/lib/python3.11/dist-packages (0.21.0+cu124)\n",
            "Requirement already satisfied: tqdm in /usr/local/lib/python3.11/dist-packages (4.67.1)\n",
            "Requirement already satisfied: filelock in /usr/local/lib/python3.11/dist-packages (from torch) (3.18.0)\n",
            "Requirement already satisfied: typing-extensions>=4.10.0 in /usr/local/lib/python3.11/dist-packages (from torch) (4.13.2)\n",
            "Requirement already satisfied: networkx in /usr/local/lib/python3.11/dist-packages (from torch) (3.4.2)\n",
            "Requirement already satisfied: jinja2 in /usr/local/lib/python3.11/dist-packages (from torch) (3.1.6)\n",
            "Requirement already satisfied: fsspec in /usr/local/lib/python3.11/dist-packages (from torch) (2025.3.2)\n",
            "Collecting nvidia-cuda-nvrtc-cu12==12.4.127 (from torch)\n",
            "  Downloading nvidia_cuda_nvrtc_cu12-12.4.127-py3-none-manylinux2014_x86_64.whl.metadata (1.5 kB)\n",
            "Collecting nvidia-cuda-runtime-cu12==12.4.127 (from torch)\n",
            "  Downloading nvidia_cuda_runtime_cu12-12.4.127-py3-none-manylinux2014_x86_64.whl.metadata (1.5 kB)\n",
            "Collecting nvidia-cuda-cupti-cu12==12.4.127 (from torch)\n",
            "  Downloading nvidia_cuda_cupti_cu12-12.4.127-py3-none-manylinux2014_x86_64.whl.metadata (1.6 kB)\n",
            "Collecting nvidia-cudnn-cu12==9.1.0.70 (from torch)\n",
            "  Downloading nvidia_cudnn_cu12-9.1.0.70-py3-none-manylinux2014_x86_64.whl.metadata (1.6 kB)\n",
            "Collecting nvidia-cublas-cu12==12.4.5.8 (from torch)\n",
            "  Downloading nvidia_cublas_cu12-12.4.5.8-py3-none-manylinux2014_x86_64.whl.metadata (1.5 kB)\n",
            "Collecting nvidia-cufft-cu12==11.2.1.3 (from torch)\n",
            "  Downloading nvidia_cufft_cu12-11.2.1.3-py3-none-manylinux2014_x86_64.whl.metadata (1.5 kB)\n",
            "Collecting nvidia-curand-cu12==10.3.5.147 (from torch)\n",
            "  Downloading nvidia_curand_cu12-10.3.5.147-py3-none-manylinux2014_x86_64.whl.metadata (1.5 kB)\n",
            "Collecting nvidia-cusolver-cu12==11.6.1.9 (from torch)\n",
            "  Downloading nvidia_cusolver_cu12-11.6.1.9-py3-none-manylinux2014_x86_64.whl.metadata (1.6 kB)\n",
            "Collecting nvidia-cusparse-cu12==12.3.1.170 (from torch)\n",
            "  Downloading nvidia_cusparse_cu12-12.3.1.170-py3-none-manylinux2014_x86_64.whl.metadata (1.6 kB)\n",
            "Requirement already satisfied: nvidia-cusparselt-cu12==0.6.2 in /usr/local/lib/python3.11/dist-packages (from torch) (0.6.2)\n",
            "Requirement already satisfied: nvidia-nccl-cu12==2.21.5 in /usr/local/lib/python3.11/dist-packages (from torch) (2.21.5)\n",
            "Requirement already satisfied: nvidia-nvtx-cu12==12.4.127 in /usr/local/lib/python3.11/dist-packages (from torch) (12.4.127)\n",
            "Collecting nvidia-nvjitlink-cu12==12.4.127 (from torch)\n",
            "  Downloading nvidia_nvjitlink_cu12-12.4.127-py3-none-manylinux2014_x86_64.whl.metadata (1.5 kB)\n",
            "Requirement already satisfied: triton==3.2.0 in /usr/local/lib/python3.11/dist-packages (from torch) (3.2.0)\n",
            "Requirement already satisfied: sympy==1.13.1 in /usr/local/lib/python3.11/dist-packages (from torch) (1.13.1)\n",
            "Requirement already satisfied: mpmath<1.4,>=1.1.0 in /usr/local/lib/python3.11/dist-packages (from sympy==1.13.1->torch) (1.3.0)\n",
            "Requirement already satisfied: numpy in /usr/local/lib/python3.11/dist-packages (from torchvision) (2.0.2)\n",
            "Requirement already satisfied: pillow!=8.3.*,>=5.3.0 in /usr/local/lib/python3.11/dist-packages (from torchvision) (11.2.1)\n",
            "Requirement already satisfied: MarkupSafe>=2.0 in /usr/local/lib/python3.11/dist-packages (from jinja2->torch) (3.0.2)\n",
            "Downloading nvidia_cublas_cu12-12.4.5.8-py3-none-manylinux2014_x86_64.whl (363.4 MB)\n",
            "\u001b[2K   \u001b[90m━━━━━━━━━━━━━━━━━━━━━━━━━━━━━━━━━━━━━━━━\u001b[0m \u001b[32m363.4/363.4 MB\u001b[0m \u001b[31m3.2 MB/s\u001b[0m eta \u001b[36m0:00:00\u001b[0m\n",
            "\u001b[?25hDownloading nvidia_cuda_cupti_cu12-12.4.127-py3-none-manylinux2014_x86_64.whl (13.8 MB)\n",
            "\u001b[2K   \u001b[90m━━━━━━━━━━━━━━━━━━━━━━━━━━━━━━━━━━━━━━━━\u001b[0m \u001b[32m13.8/13.8 MB\u001b[0m \u001b[31m127.2 MB/s\u001b[0m eta \u001b[36m0:00:00\u001b[0m\n",
            "\u001b[?25hDownloading nvidia_cuda_nvrtc_cu12-12.4.127-py3-none-manylinux2014_x86_64.whl (24.6 MB)\n",
            "\u001b[2K   \u001b[90m━━━━━━━━━━━━━━━━━━━━━━━━━━━━━━━━━━━━━━━━\u001b[0m \u001b[32m24.6/24.6 MB\u001b[0m \u001b[31m72.7 MB/s\u001b[0m eta \u001b[36m0:00:00\u001b[0m\n",
            "\u001b[?25hDownloading nvidia_cuda_runtime_cu12-12.4.127-py3-none-manylinux2014_x86_64.whl (883 kB)\n",
            "\u001b[2K   \u001b[90m━━━━━━━━━━━━━━━━━━━━━━━━━━━━━━━━━━━━━━━━\u001b[0m \u001b[32m883.7/883.7 kB\u001b[0m \u001b[31m57.3 MB/s\u001b[0m eta \u001b[36m0:00:00\u001b[0m\n",
            "\u001b[?25hDownloading nvidia_cudnn_cu12-9.1.0.70-py3-none-manylinux2014_x86_64.whl (664.8 MB)\n",
            "\u001b[2K   \u001b[90m━━━━━━━━━━━━━━━━━━━━━━━━━━━━━━━━━━━━━━━━\u001b[0m \u001b[32m664.8/664.8 MB\u001b[0m \u001b[31m3.3 MB/s\u001b[0m eta \u001b[36m0:00:00\u001b[0m\n",
            "\u001b[?25hDownloading nvidia_cufft_cu12-11.2.1.3-py3-none-manylinux2014_x86_64.whl (211.5 MB)\n",
            "\u001b[2K   \u001b[90m━━━━━━━━━━━━━━━━━━━━━━━━━━━━━━━━━━━━━━━━\u001b[0m \u001b[32m211.5/211.5 MB\u001b[0m \u001b[31m4.8 MB/s\u001b[0m eta \u001b[36m0:00:00\u001b[0m\n",
            "\u001b[?25hDownloading nvidia_curand_cu12-10.3.5.147-py3-none-manylinux2014_x86_64.whl (56.3 MB)\n",
            "\u001b[2K   \u001b[90m━━━━━━━━━━━━━━━━━━━━━━━━━━━━━━━━━━━━━━━━\u001b[0m \u001b[32m56.3/56.3 MB\u001b[0m \u001b[31m41.5 MB/s\u001b[0m eta \u001b[36m0:00:00\u001b[0m\n",
            "\u001b[?25hDownloading nvidia_cusolver_cu12-11.6.1.9-py3-none-manylinux2014_x86_64.whl (127.9 MB)\n",
            "\u001b[2K   \u001b[90m━━━━━━━━━━━━━━━━━━━━━━━━━━━━━━━━━━━━━━━━\u001b[0m \u001b[32m127.9/127.9 MB\u001b[0m \u001b[31m20.3 MB/s\u001b[0m eta \u001b[36m0:00:00\u001b[0m\n",
            "\u001b[?25hDownloading nvidia_cusparse_cu12-12.3.1.170-py3-none-manylinux2014_x86_64.whl (207.5 MB)\n",
            "\u001b[2K   \u001b[90m━━━━━━━━━━━━━━━━━━━━━━━━━━━━━━━━━━━━━━━━\u001b[0m \u001b[32m207.5/207.5 MB\u001b[0m \u001b[31m5.1 MB/s\u001b[0m eta \u001b[36m0:00:00\u001b[0m\n",
            "\u001b[?25hDownloading nvidia_nvjitlink_cu12-12.4.127-py3-none-manylinux2014_x86_64.whl (21.1 MB)\n",
            "\u001b[2K   \u001b[90m━━━━━━━━━━━━━━━━━━━━━━━━━━━━━━━━━━━━━━━━\u001b[0m \u001b[32m21.1/21.1 MB\u001b[0m \u001b[31m108.5 MB/s\u001b[0m eta \u001b[36m0:00:00\u001b[0m\n",
            "\u001b[?25hInstalling collected packages: nvidia-nvjitlink-cu12, nvidia-curand-cu12, nvidia-cufft-cu12, nvidia-cuda-runtime-cu12, nvidia-cuda-nvrtc-cu12, nvidia-cuda-cupti-cu12, nvidia-cublas-cu12, nvidia-cusparse-cu12, nvidia-cudnn-cu12, nvidia-cusolver-cu12\n",
            "  Attempting uninstall: nvidia-nvjitlink-cu12\n",
            "    Found existing installation: nvidia-nvjitlink-cu12 12.5.82\n",
            "    Uninstalling nvidia-nvjitlink-cu12-12.5.82:\n",
            "      Successfully uninstalled nvidia-nvjitlink-cu12-12.5.82\n",
            "  Attempting uninstall: nvidia-curand-cu12\n",
            "    Found existing installation: nvidia-curand-cu12 10.3.6.82\n",
            "    Uninstalling nvidia-curand-cu12-10.3.6.82:\n",
            "      Successfully uninstalled nvidia-curand-cu12-10.3.6.82\n",
            "  Attempting uninstall: nvidia-cufft-cu12\n",
            "    Found existing installation: nvidia-cufft-cu12 11.2.3.61\n",
            "    Uninstalling nvidia-cufft-cu12-11.2.3.61:\n",
            "      Successfully uninstalled nvidia-cufft-cu12-11.2.3.61\n",
            "  Attempting uninstall: nvidia-cuda-runtime-cu12\n",
            "    Found existing installation: nvidia-cuda-runtime-cu12 12.5.82\n",
            "    Uninstalling nvidia-cuda-runtime-cu12-12.5.82:\n",
            "      Successfully uninstalled nvidia-cuda-runtime-cu12-12.5.82\n",
            "  Attempting uninstall: nvidia-cuda-nvrtc-cu12\n",
            "    Found existing installation: nvidia-cuda-nvrtc-cu12 12.5.82\n",
            "    Uninstalling nvidia-cuda-nvrtc-cu12-12.5.82:\n",
            "      Successfully uninstalled nvidia-cuda-nvrtc-cu12-12.5.82\n",
            "  Attempting uninstall: nvidia-cuda-cupti-cu12\n",
            "    Found existing installation: nvidia-cuda-cupti-cu12 12.5.82\n",
            "    Uninstalling nvidia-cuda-cupti-cu12-12.5.82:\n",
            "      Successfully uninstalled nvidia-cuda-cupti-cu12-12.5.82\n",
            "  Attempting uninstall: nvidia-cublas-cu12\n",
            "    Found existing installation: nvidia-cublas-cu12 12.5.3.2\n",
            "    Uninstalling nvidia-cublas-cu12-12.5.3.2:\n",
            "      Successfully uninstalled nvidia-cublas-cu12-12.5.3.2\n",
            "  Attempting uninstall: nvidia-cusparse-cu12\n",
            "    Found existing installation: nvidia-cusparse-cu12 12.5.1.3\n",
            "    Uninstalling nvidia-cusparse-cu12-12.5.1.3:\n",
            "      Successfully uninstalled nvidia-cusparse-cu12-12.5.1.3\n",
            "  Attempting uninstall: nvidia-cudnn-cu12\n",
            "    Found existing installation: nvidia-cudnn-cu12 9.3.0.75\n",
            "    Uninstalling nvidia-cudnn-cu12-9.3.0.75:\n",
            "      Successfully uninstalled nvidia-cudnn-cu12-9.3.0.75\n",
            "  Attempting uninstall: nvidia-cusolver-cu12\n",
            "    Found existing installation: nvidia-cusolver-cu12 11.6.3.83\n",
            "    Uninstalling nvidia-cusolver-cu12-11.6.3.83:\n",
            "      Successfully uninstalled nvidia-cusolver-cu12-11.6.3.83\n",
            "Successfully installed nvidia-cublas-cu12-12.4.5.8 nvidia-cuda-cupti-cu12-12.4.127 nvidia-cuda-nvrtc-cu12-12.4.127 nvidia-cuda-runtime-cu12-12.4.127 nvidia-cudnn-cu12-9.1.0.70 nvidia-cufft-cu12-11.2.1.3 nvidia-curand-cu12-10.3.5.147 nvidia-cusolver-cu12-11.6.1.9 nvidia-cusparse-cu12-12.3.1.170 nvidia-nvjitlink-cu12-12.4.127\n"
          ]
        }
      ],
      "source": [
        "# ✅ 필수 라이브러리 설치 (처음 1번만 실행)\n",
        "!pip install torch torchvision tqdm"
      ]
    },
    {
      "cell_type": "code",
      "execution_count": 2,
      "metadata": {
        "colab": {
          "base_uri": "https://localhost:8080/"
        },
        "id": "BCVSkNBruUvj",
        "outputId": "28f271f7-2a68-46df-a85e-f2d1b25dd135"
      },
      "outputs": [
        {
          "output_type": "stream",
          "name": "stdout",
          "text": [
            "Mounted at /content/drive\n"
          ]
        }
      ],
      "source": [
        "# 1. 구글 드라이브 마운트\n",
        "from google.colab import drive\n",
        "drive.mount('/content/drive', force_remount=True)"
      ]
    },
    {
      "cell_type": "code",
      "source": [
        "import os\n",
        "import shutil\n",
        "\n",
        "# 원본 마스크 폴더 (굵게 만든 버전)\n",
        "source_mask_dir = \"/content/drive/MyDrive/swProject/mask_all\"\n",
        "\n",
        "# 대상 마스크 폴더들\n",
        "target_mask_dirs = [\n",
        "    \"/content/drive/MyDrive/swProject/dataset/train/masks\",\n",
        "    \"/content/drive/MyDrive/swProject/dataset/val/masks\",\n",
        "    \"/content/drive/MyDrive/swProject/dataset/test/masks\"\n",
        "]\n",
        "\n",
        "# 덮어쓰기 실행\n",
        "for target_dir in target_mask_dirs:\n",
        "    for fname in os.listdir(target_dir):\n",
        "        if fname.endswith(\"_mask.png\"):\n",
        "            src_path = os.path.join(source_mask_dir, fname)\n",
        "            dst_path = os.path.join(target_dir, fname)\n",
        "            if os.path.exists(src_path):\n",
        "                shutil.copy(src_path, dst_path)\n",
        "\n",
        "print(\"✅ 마스크 이미지 덮어쓰기 완료!\")\n"
      ],
      "metadata": {
        "colab": {
          "base_uri": "https://localhost:8080/"
        },
        "id": "zSHgfCwLSskA",
        "outputId": "8cfc1f76-6a56-46ff-d750-2c19107388eb"
      },
      "execution_count": null,
      "outputs": [
        {
          "output_type": "stream",
          "name": "stdout",
          "text": [
            "✅ 마스크 이미지 덮어쓰기 완료!\n"
          ]
        }
      ]
    },
    {
      "cell_type": "code",
      "execution_count": null,
      "metadata": {
        "id": "73aw2LMykhi9"
      },
      "outputs": [],
      "source": [
        "# ✅ GPU 및 라이브러리 import\n",
        "import random\n",
        "import torch\n",
        "import time\n",
        "import os\n",
        "import numpy as np\n",
        "import torch.nn as nn\n",
        "from torch.utils.data import Dataset, DataLoader\n",
        "from torchvision import transforms, models\n",
        "from PIL import Image\n",
        "from tqdm import tqdm\n",
        "import matplotlib.pyplot as plt\n",
        "from itertools import product\n",
        "import pickle\n",
        "import pandas as pd\n",
        "\n",
        "# 데이터셋 경로 설정\n",
        "base_dir = \"/content/drive/MyDrive/swProject/dataset\"\n",
        "train_dir = os.path.join(base_dir, \"train\")\n",
        "val_dir = os.path.join(base_dir, \"val\")\n",
        "test_dir = os.path.join(base_dir, \"test\")\n",
        "\n",
        "# 각 클래스별 이미지 경로 설정\n",
        "train_normal_dir = os.path.join(train_dir, \"normal\")\n",
        "train_damaged_dir = os.path.join(train_dir, \"damaged\")\n",
        "train_mask_dir = os.path.join(train_dir, \"masks\")\n",
        "\n",
        "val_normal_dir = os.path.join(val_dir, \"normal\")\n",
        "val_damaged_dir = os.path.join(val_dir, \"damaged\")\n",
        "val_mask_dir = os.path.join(val_dir, \"masks\")\n",
        "\n",
        "test_normal_dir = os.path.join(test_dir, \"normal\")\n",
        "test_damaged_dir = os.path.join(test_dir, \"damaged\")\n",
        "test_mask_dir = os.path.join(test_dir, \"masks\")"
      ]
    },
    {
      "cell_type": "code",
      "execution_count": null,
      "metadata": {
        "id": "h_xkhmkaK7vj"
      },
      "outputs": [],
      "source": [
        "#@\n",
        "class LaneDataset(Dataset):\n",
        "    def __init__(self, normal_dir, damaged_dir, mask_dir, transform=None, max_samples=None, seed=42):\n",
        "        self.normal_images = sorted([f for f in os.listdir(normal_dir) if f.endswith(\".jpg\")])\n",
        "        self.damaged_images = sorted([f for f in os.listdir(damaged_dir) if f.endswith(\".jpg\")])\n",
        "        self.mask_images = sorted([f for f in os.listdir(mask_dir) if f.endswith(\"_mask.png\")])\n",
        "\n",
        "        self.normal_dir = normal_dir\n",
        "        self.damaged_dir = damaged_dir\n",
        "        self.mask_dir = mask_dir\n",
        "        self.transform = transform\n",
        "\n",
        "        # 전체 이미지 묶기\n",
        "        self.all_images = list(zip(self.normal_images, [\"normal\"] * len(self.normal_images))) + \\\n",
        "                          list(zip(self.damaged_images, [\"damaged\"] * len(self.damaged_images)))\n",
        "\n",
        "        # 샘플 제한 적용\n",
        "        if max_samples is not None:\n",
        "            random.seed(seed)\n",
        "            normal_images = [x for x in self.all_images if x[1] == \"normal\"]\n",
        "            damaged_images = [x for x in self.all_images if x[1] == \"damaged\"]\n",
        "\n",
        "            # 비율 유지한 샘플링\n",
        "            normal_num = int(max_samples * 0.7)\n",
        "            damaged_num = max_samples - normal_num\n",
        "\n",
        "            self.all_images = random.sample(normal_images, normal_num) + \\\n",
        "                              random.sample(damaged_images, damaged_num)\n",
        "            random.shuffle(self.all_images)\n",
        "\n",
        "    def __getitem__(self, idx):\n",
        "        image_name, label = self.all_images[idx]\n",
        "        img_path = os.path.join(self.normal_dir if label == \"normal\" else self.damaged_dir, image_name) # nomal, damaged 이미지 섞기\n",
        "\n",
        "        mask_name = image_name.replace(\".jpg\", \"_mask.png\")\n",
        "        mask_path = os.path.join(self.mask_dir, mask_name)\n",
        "\n",
        "        img = Image.open(img_path).convert(\"RGB\")\n",
        "        mask = Image.open(mask_path).convert(\"L\")\n",
        "\n",
        "        if self.transform:\n",
        "            img = self.transform(img)\n",
        "\n",
        "        # 마스크 사이즈 960*540\n",
        "        mask = mask.resize((960, 540))\n",
        "        mask = np.array(mask)\n",
        "        mask = (mask > 0).astype(np.uint8)\n",
        "        mask = torch.from_numpy(mask).long()\n",
        "\n",
        "        return img, mask\n",
        "\n",
        "    def __len__(self):\n",
        "        return len(self.all_images)"
      ]
    },
    {
      "cell_type": "code",
      "execution_count": null,
      "metadata": {
        "id": "430vbN7ZhuuA"
      },
      "outputs": [],
      "source": [
        "# ✅ 변환 정의\n",
        "# 좌우 반전, 밝기/채도 변화, 회전 -> 학습 일반화\n",
        "transform = transforms.Compose([\n",
        "    transforms.Resize((540, 960)),\n",
        "    transforms.RandomHorizontalFlip(),\n",
        "    transforms.ColorJitter(brightness=0.3, contrast=0.3, saturation=0.2, hue=0.02),\n",
        "    transforms.RandomRotation(10),\n",
        "    transforms.ToTensor()\n",
        "])"
      ]
    },
    {
      "cell_type": "code",
      "execution_count": null,
      "metadata": {
        "id": "J3DlpGv4hxnO"
      },
      "outputs": [],
      "source": [
        "# ✅ 실험할 하이퍼파라미터 조합\n",
        "lr = 0.0001\n",
        "weight = [1.0, 5.0]\n",
        "batch_size = 4\n",
        "num_epochs = 50\n",
        "\n",
        "# ✅ 결과 저장용 리스트\n",
        "#results = []\n",
        "\n",
        "# 학습/검증/테스트 데이터셋 준비\n",
        "train_dataset = LaneDataset(train_normal_dir, train_damaged_dir, train_mask_dir, transform)\n",
        "val_dataset = LaneDataset(val_normal_dir, val_damaged_dir, val_mask_dir, transform)\n",
        "test_dataset = LaneDataset(test_normal_dir, test_damaged_dir, test_mask_dir, transform)\n",
        "\n",
        "# # @@@ 1000장만\n",
        "# # 총 1000장 기준 분할\n",
        "# train_dataset = LaneDataset(train_normal_dir, train_damaged_dir, train_mask_dir, transform, max_samples=700)\n",
        "# val_dataset = LaneDataset(val_normal_dir, val_damaged_dir, val_mask_dir, transform, max_samples=200)\n",
        "# test_dataset = LaneDataset(test_normal_dir, test_damaged_dir, test_mask_dir, transform, max_samples=100)\n",
        "\n",
        "\n",
        "# 데이터로더 준비\n",
        "train_loader = DataLoader(train_dataset, batch_size=batch_size, shuffle=True, num_workers=2, pin_memory=True)\n",
        "val_loader = DataLoader(val_dataset, batch_size=batch_size, num_workers=2, pin_memory=True)\n",
        "test_loader = DataLoader(test_dataset, batch_size=batch_size, num_workers=2, pin_memory=True)\n",
        "\n",
        "#기존 train_loader = DataLoader(train_dataset, batch_size=batch_size, shuffle=True)\n",
        "#기존 val_loader = DataLoader(val_dataset, batch_size=batch_size)"
      ]
    },
    {
      "cell_type": "code",
      "execution_count": null,
      "metadata": {
        "collapsed": true,
        "id": "9wiTZ1idi7Ro",
        "colab": {
          "base_uri": "https://localhost:8080/"
        },
        "outputId": "a1bff5d0-05e7-43c0-a6ba-31f762064066"
      },
      "outputs": [
        {
          "output_type": "stream",
          "name": "stderr",
          "text": [
            "Downloading: \"https://download.pytorch.org/models/deeplabv3_resnet50_coco-cd0a2569.pth\" to /root/.cache/torch/hub/checkpoints/deeplabv3_resnet50_coco-cd0a2569.pth\n",
            "100%|██████████| 161M/161M [00:00<00:00, 181MB/s]\n",
            "/usr/local/lib/python3.11/dist-packages/torch/optim/lr_scheduler.py:62: UserWarning: The verbose parameter is deprecated. Please use get_last_lr() to access the learning rate.\n",
            "  warnings.warn(\n"
          ]
        }
      ],
      "source": [
        "# 모델 준비: DeepLabV3 모델 사용(백본: ResNet50)\n",
        "model = models.segmentation.deeplabv3_resnet50(weights=models.segmentation.DeepLabV3_ResNet50_Weights.DEFAULT)\n",
        "model.classifier[4] = nn.Conv2d(256, 2, kernel_size=1) # 클래스 수: 2(차선/차선아닌영역) (출력 채널 2개)\n",
        "\n",
        "device = torch.device(\"cuda\" if torch.cuda.is_available() else \"cpu\") # gpu 사용 못하면 cpu\n",
        "model = model.to(device)\n",
        "\n",
        "# Adam 옵티마이저 사용\n",
        "optimizer = torch.optim.Adam(model.parameters(), lr=lr)\n",
        "# ReduceLROnPlateau: val loss 기준으로 자동 학습률 감소\n",
        "scheduler = torch.optim.lr_scheduler.ReduceLROnPlateau(optimizer, mode='min', patience=3, factor=0.5, verbose=True)\n",
        "\n",
        "# 손실 함수: CrossEntropy + Dice Loss -> 픽셀 단위 정확도와 세그멘테이션 경계 정확도를 동시에\n",
        "class DiceLoss(nn.Module):\n",
        "    def __init__(self, smooth=1e-6):\n",
        "        super(DiceLoss, self).__init__()\n",
        "        self.smooth = smooth\n",
        "\n",
        "    def forward(self, inputs, targets):\n",
        "        inputs = torch.softmax(inputs, dim=1)[:,1,:,:]  # class=1만 추출 -> 차선에 대해서만 Dice 적\n",
        "        targets = (targets == 1).float()\n",
        "        intersection = (inputs * targets).sum()\n",
        "        union = inputs.sum() + targets.sum()\n",
        "        dice = (2. * intersection + self.smooth) / (union + self.smooth)\n",
        "        return 1 - dice\n",
        "\n",
        "dice_loss = DiceLoss()\n",
        "loss_fn = lambda outputs, masks: 0.3 * nn.CrossEntropyLoss(weight=torch.tensor(weight, dtype=torch.float).to(device))(outputs, masks) + \\\n",
        "                                 0.7 * dice_loss(outputs, masks)\n",
        "\n",
        "# Early Stopping 설정 (10회 이상 loss가 더 작은 값이 안 나오면 학습 중단)\n",
        "best_val_loss = float('inf')\n",
        "patience = 10\n",
        "counter = 0\n",
        "\n",
        "# 로그 저장 리스트(학습 과정 추적용)\n",
        "train_loss_history = []\n",
        "val_loss_history = []"
      ]
    },
    {
      "cell_type": "code",
      "execution_count": null,
      "metadata": {
        "colab": {
          "base_uri": "https://localhost:8080/"
        },
        "id": "Tyh2NQZmiJdf",
        "outputId": "d3b729d5-d217-42ca-ed42-79251492d2b9"
      },
      "outputs": [
        {
          "metadata": {
            "tags": null
          },
          "name": "stderr",
          "output_type": "stream",
          "text": [
            "<ipython-input-9-da5ce702dec8>:2: FutureWarning: `torch.cuda.amp.GradScaler(args...)` is deprecated. Please use `torch.amp.GradScaler('cuda', args...)` instead.\n",
            "  scaler = torch.cuda.amp.GradScaler() # 혼합 정밀도 학습(AMP)\n",
            "Epoch 1 - Train:   0%|          | 0/875 [00:00<?, ?it/s]<ipython-input-9-da5ce702dec8>:13: FutureWarning: `torch.cuda.amp.autocast(args...)` is deprecated. Please use `torch.amp.autocast('cuda', args...)` instead.\n",
            "  with torch.cuda.amp.autocast():  # forward + loss 계산을 autocast 안에서\n",
            "Epoch 1 - Train: 100%|██████████| 875/875 [14:03<00:00,  1.04it/s]\n",
            "Epoch 1 - Validation: 100%|██████████| 250/250 [05:02<00:00,  1.21s/it]\n"
          ]
        },
        {
          "metadata": {
            "tags": null
          },
          "name": "stdout",
          "output_type": "stream",
          "text": [
            "Epoch 1 - Train Loss: 0.4407 - Val Loss: 0.3960\n"
          ]
        },
        {
          "metadata": {
            "tags": null
          },
          "name": "stderr",
          "output_type": "stream",
          "text": [
            "Epoch 2 - Train: 100%|██████████| 875/875 [09:35<00:00,  1.52it/s]\n",
            "Epoch 2 - Validation: 100%|██████████| 250/250 [03:21<00:00,  1.24it/s]\n"
          ]
        },
        {
          "metadata": {
            "tags": null
          },
          "name": "stdout",
          "output_type": "stream",
          "text": [
            "Epoch 2 - Train Loss: 0.3563 - Val Loss: 0.3545\n"
          ]
        },
        {
          "metadata": {
            "tags": null
          },
          "name": "stderr",
          "output_type": "stream",
          "text": [
            "Epoch 3 - Train: 100%|██████████| 875/875 [09:34<00:00,  1.52it/s]\n",
            "Epoch 3 - Validation: 100%|██████████| 250/250 [03:21<00:00,  1.24it/s]\n"
          ]
        },
        {
          "metadata": {
            "tags": null
          },
          "name": "stdout",
          "output_type": "stream",
          "text": [
            "Epoch 3 - Train Loss: 0.3255 - Val Loss: 0.3267\n"
          ]
        },
        {
          "metadata": {
            "tags": null
          },
          "name": "stderr",
          "output_type": "stream",
          "text": [
            "Epoch 4 - Train: 100%|██████████| 875/875 [09:35<00:00,  1.52it/s]\n",
            "Epoch 4 - Validation: 100%|██████████| 250/250 [03:21<00:00,  1.24it/s]\n"
          ]
        },
        {
          "metadata": {
            "tags": null
          },
          "name": "stdout",
          "output_type": "stream",
          "text": [
            "Epoch 4 - Train Loss: 0.3028 - Val Loss: 0.3202\n"
          ]
        },
        {
          "metadata": {
            "tags": null
          },
          "name": "stderr",
          "output_type": "stream",
          "text": [
            "Epoch 5 - Train: 100%|██████████| 875/875 [09:35<00:00,  1.52it/s]\n",
            "Epoch 5 - Validation: 100%|██████████| 250/250 [03:21<00:00,  1.24it/s]\n"
          ]
        },
        {
          "metadata": {
            "tags": null
          },
          "name": "stdout",
          "output_type": "stream",
          "text": [
            "Epoch 5 - Train Loss: 0.2882 - Val Loss: 0.2990\n"
          ]
        },
        {
          "metadata": {
            "tags": null
          },
          "name": "stderr",
          "output_type": "stream",
          "text": [
            "Epoch 6 - Train: 100%|██████████| 875/875 [09:34<00:00,  1.52it/s]\n",
            "Epoch 6 - Validation: 100%|██████████| 250/250 [03:20<00:00,  1.24it/s]\n"
          ]
        },
        {
          "metadata": {
            "tags": null
          },
          "name": "stdout",
          "output_type": "stream",
          "text": [
            "Epoch 6 - Train Loss: 0.2740 - Val Loss: 0.2888\n"
          ]
        },
        {
          "metadata": {
            "tags": null
          },
          "name": "stderr",
          "output_type": "stream",
          "text": [
            "Epoch 7 - Train: 100%|██████████| 875/875 [09:35<00:00,  1.52it/s]\n",
            "Epoch 7 - Validation: 100%|██████████| 250/250 [03:20<00:00,  1.25it/s]\n"
          ]
        },
        {
          "metadata": {
            "tags": null
          },
          "name": "stdout",
          "output_type": "stream",
          "text": [
            "Epoch 7 - Train Loss: 0.2625 - Val Loss: 0.2745\n"
          ]
        },
        {
          "metadata": {
            "tags": null
          },
          "name": "stderr",
          "output_type": "stream",
          "text": [
            "Epoch 8 - Train: 100%|██████████| 875/875 [09:35<00:00,  1.52it/s]\n",
            "Epoch 8 - Validation: 100%|██████████| 250/250 [03:20<00:00,  1.24it/s]\n"
          ]
        },
        {
          "metadata": {
            "tags": null
          },
          "name": "stdout",
          "output_type": "stream",
          "text": [
            "Epoch 8 - Train Loss: 0.2559 - Val Loss: 0.2683\n"
          ]
        },
        {
          "metadata": {
            "tags": null
          },
          "name": "stderr",
          "output_type": "stream",
          "text": [
            "Epoch 9 - Train: 100%|██████████| 875/875 [09:34<00:00,  1.52it/s]\n",
            "Epoch 9 - Validation: 100%|██████████| 250/250 [03:20<00:00,  1.24it/s]\n"
          ]
        },
        {
          "metadata": {
            "tags": null
          },
          "name": "stdout",
          "output_type": "stream",
          "text": [
            "Epoch 9 - Train Loss: 0.2449 - Val Loss: 0.2611\n"
          ]
        },
        {
          "metadata": {
            "tags": null
          },
          "name": "stderr",
          "output_type": "stream",
          "text": [
            "Epoch 10 - Train: 100%|██████████| 875/875 [09:35<00:00,  1.52it/s]\n",
            "Epoch 10 - Validation: 100%|██████████| 250/250 [03:20<00:00,  1.25it/s]\n"
          ]
        },
        {
          "metadata": {
            "tags": null
          },
          "name": "stdout",
          "output_type": "stream",
          "text": [
            "Epoch 10 - Train Loss: 0.2414 - Val Loss: 0.2632\n"
          ]
        },
        {
          "output_type": "stream",
          "name": "stderr",
          "text": [
            "Epoch 11 - Train: 100%|██████████| 875/875 [09:34<00:00,  1.52it/s]\n",
            "Epoch 11 - Validation: 100%|██████████| 250/250 [03:20<00:00,  1.24it/s]\n"
          ]
        },
        {
          "output_type": "stream",
          "name": "stdout",
          "text": [
            "Epoch 11 - Train Loss: 0.2341 - Val Loss: 0.2579\n"
          ]
        },
        {
          "output_type": "stream",
          "name": "stderr",
          "text": [
            "Epoch 12 - Train: 100%|██████████| 875/875 [09:34<00:00,  1.52it/s]\n",
            "Epoch 12 - Validation: 100%|██████████| 250/250 [03:20<00:00,  1.25it/s]\n"
          ]
        },
        {
          "output_type": "stream",
          "name": "stdout",
          "text": [
            "Epoch 12 - Train Loss: 0.2289 - Val Loss: 0.2502\n"
          ]
        },
        {
          "output_type": "stream",
          "name": "stderr",
          "text": [
            "Epoch 13 - Train: 100%|██████████| 875/875 [09:34<00:00,  1.52it/s]\n",
            "Epoch 13 - Validation: 100%|██████████| 250/250 [03:20<00:00,  1.25it/s]\n"
          ]
        },
        {
          "output_type": "stream",
          "name": "stdout",
          "text": [
            "Epoch 13 - Train Loss: 0.2213 - Val Loss: 0.2473\n"
          ]
        },
        {
          "output_type": "stream",
          "name": "stderr",
          "text": [
            "Epoch 14 - Train: 100%|██████████| 875/875 [09:34<00:00,  1.52it/s]\n",
            "Epoch 14 - Validation: 100%|██████████| 250/250 [03:20<00:00,  1.25it/s]\n"
          ]
        },
        {
          "output_type": "stream",
          "name": "stdout",
          "text": [
            "Epoch 14 - Train Loss: 0.2181 - Val Loss: 0.2416\n"
          ]
        },
        {
          "output_type": "stream",
          "name": "stderr",
          "text": [
            "Epoch 15 - Train: 100%|██████████| 875/875 [09:36<00:00,  1.52it/s]\n",
            "Epoch 15 - Validation: 100%|██████████| 250/250 [03:20<00:00,  1.25it/s]\n"
          ]
        },
        {
          "output_type": "stream",
          "name": "stdout",
          "text": [
            "Epoch 15 - Train Loss: 0.2131 - Val Loss: 0.2402\n"
          ]
        },
        {
          "output_type": "stream",
          "name": "stderr",
          "text": [
            "Epoch 16 - Train: 100%|██████████| 875/875 [09:35<00:00,  1.52it/s]\n",
            "Epoch 16 - Validation: 100%|██████████| 250/250 [03:20<00:00,  1.25it/s]\n"
          ]
        },
        {
          "output_type": "stream",
          "name": "stdout",
          "text": [
            "Epoch 16 - Train Loss: 0.2072 - Val Loss: 0.2401\n"
          ]
        },
        {
          "output_type": "stream",
          "name": "stderr",
          "text": [
            "Epoch 17 - Train: 100%|██████████| 875/875 [09:35<00:00,  1.52it/s]\n",
            "Epoch 17 - Validation: 100%|██████████| 250/250 [03:20<00:00,  1.25it/s]\n"
          ]
        },
        {
          "output_type": "stream",
          "name": "stdout",
          "text": [
            "Epoch 17 - Train Loss: 0.2029 - Val Loss: 0.2354\n"
          ]
        },
        {
          "output_type": "stream",
          "name": "stderr",
          "text": [
            "Epoch 18 - Train: 100%|██████████| 875/875 [09:36<00:00,  1.52it/s]\n",
            "Epoch 18 - Validation: 100%|██████████| 250/250 [03:20<00:00,  1.25it/s]\n"
          ]
        },
        {
          "output_type": "stream",
          "name": "stdout",
          "text": [
            "Epoch 18 - Train Loss: 0.1993 - Val Loss: 0.2286\n"
          ]
        },
        {
          "output_type": "stream",
          "name": "stderr",
          "text": [
            "Epoch 19 - Train: 100%|██████████| 875/875 [09:34<00:00,  1.52it/s]\n",
            "Epoch 19 - Validation: 100%|██████████| 250/250 [03:20<00:00,  1.25it/s]\n"
          ]
        },
        {
          "output_type": "stream",
          "name": "stdout",
          "text": [
            "Epoch 19 - Train Loss: 0.1964 - Val Loss: 0.2281\n"
          ]
        },
        {
          "output_type": "stream",
          "name": "stderr",
          "text": [
            "Epoch 20 - Train: 100%|██████████| 875/875 [09:35<00:00,  1.52it/s]\n",
            "Epoch 20 - Validation: 100%|██████████| 250/250 [03:20<00:00,  1.25it/s]\n"
          ]
        },
        {
          "output_type": "stream",
          "name": "stdout",
          "text": [
            "Epoch 20 - Train Loss: 0.1942 - Val Loss: 0.2190\n"
          ]
        },
        {
          "output_type": "stream",
          "name": "stderr",
          "text": [
            "Epoch 21 - Train: 100%|██████████| 875/875 [09:36<00:00,  1.52it/s]\n",
            "Epoch 21 - Validation: 100%|██████████| 250/250 [03:20<00:00,  1.25it/s]\n"
          ]
        },
        {
          "output_type": "stream",
          "name": "stdout",
          "text": [
            "Epoch 21 - Train Loss: 0.1881 - Val Loss: 0.2277\n"
          ]
        },
        {
          "output_type": "stream",
          "name": "stderr",
          "text": [
            "Epoch 22 - Train: 100%|██████████| 875/875 [09:35<00:00,  1.52it/s]\n",
            "Epoch 22 - Validation: 100%|██████████| 250/250 [03:20<00:00,  1.25it/s]\n"
          ]
        },
        {
          "output_type": "stream",
          "name": "stdout",
          "text": [
            "Epoch 22 - Train Loss: 0.1854 - Val Loss: 0.2185\n"
          ]
        },
        {
          "output_type": "stream",
          "name": "stderr",
          "text": [
            "Epoch 23 - Train: 100%|██████████| 875/875 [09:36<00:00,  1.52it/s]\n",
            "Epoch 23 - Validation: 100%|██████████| 250/250 [03:19<00:00,  1.25it/s]\n"
          ]
        },
        {
          "output_type": "stream",
          "name": "stdout",
          "text": [
            "Epoch 23 - Train Loss: 0.1816 - Val Loss: 0.2202\n"
          ]
        },
        {
          "output_type": "stream",
          "name": "stderr",
          "text": [
            "Epoch 24 - Train: 100%|██████████| 875/875 [09:36<00:00,  1.52it/s]\n",
            "Epoch 24 - Validation: 100%|██████████| 250/250 [03:20<00:00,  1.25it/s]\n"
          ]
        },
        {
          "output_type": "stream",
          "name": "stdout",
          "text": [
            "Epoch 24 - Train Loss: 0.1819 - Val Loss: 0.2151\n"
          ]
        },
        {
          "output_type": "stream",
          "name": "stderr",
          "text": [
            "Epoch 25 - Train: 100%|██████████| 875/875 [09:34<00:00,  1.52it/s]\n",
            "Epoch 25 - Validation: 100%|██████████| 250/250 [03:19<00:00,  1.25it/s]\n"
          ]
        },
        {
          "output_type": "stream",
          "name": "stdout",
          "text": [
            "Epoch 25 - Train Loss: 0.1780 - Val Loss: 0.2132\n"
          ]
        },
        {
          "output_type": "stream",
          "name": "stderr",
          "text": [
            "Epoch 26 - Train: 100%|██████████| 875/875 [09:34<00:00,  1.52it/s]\n",
            "Epoch 26 - Validation: 100%|██████████| 250/250 [03:19<00:00,  1.25it/s]\n"
          ]
        },
        {
          "output_type": "stream",
          "name": "stdout",
          "text": [
            "Epoch 26 - Train Loss: 0.1735 - Val Loss: 0.2158\n"
          ]
        },
        {
          "output_type": "stream",
          "name": "stderr",
          "text": [
            "Epoch 27 - Train: 100%|██████████| 875/875 [09:34<00:00,  1.52it/s]\n",
            "Epoch 27 - Validation: 100%|██████████| 250/250 [03:20<00:00,  1.25it/s]\n"
          ]
        },
        {
          "output_type": "stream",
          "name": "stdout",
          "text": [
            "Epoch 27 - Train Loss: 0.1725 - Val Loss: 0.2178\n"
          ]
        },
        {
          "output_type": "stream",
          "name": "stderr",
          "text": [
            "Epoch 28 - Train: 100%|██████████| 875/875 [09:34<00:00,  1.52it/s]\n",
            "Epoch 28 - Validation: 100%|██████████| 250/250 [03:19<00:00,  1.25it/s]\n"
          ]
        },
        {
          "output_type": "stream",
          "name": "stdout",
          "text": [
            "Epoch 28 - Train Loss: 0.1706 - Val Loss: 0.2134\n"
          ]
        },
        {
          "output_type": "stream",
          "name": "stderr",
          "text": [
            "Epoch 29 - Train: 100%|██████████| 875/875 [09:34<00:00,  1.52it/s]\n",
            "Epoch 29 - Validation: 100%|██████████| 250/250 [03:19<00:00,  1.25it/s]\n"
          ]
        },
        {
          "output_type": "stream",
          "name": "stdout",
          "text": [
            "Epoch 29 - Train Loss: 0.1663 - Val Loss: 0.2109\n"
          ]
        },
        {
          "output_type": "stream",
          "name": "stderr",
          "text": [
            "Epoch 30 - Train: 100%|██████████| 875/875 [09:34<00:00,  1.52it/s]\n",
            "Epoch 30 - Validation: 100%|██████████| 250/250 [03:19<00:00,  1.25it/s]\n"
          ]
        },
        {
          "output_type": "stream",
          "name": "stdout",
          "text": [
            "Epoch 30 - Train Loss: 0.1637 - Val Loss: 0.2056\n"
          ]
        },
        {
          "output_type": "stream",
          "name": "stderr",
          "text": [
            "Epoch 31 - Train: 100%|██████████| 875/875 [09:33<00:00,  1.52it/s]\n",
            "Epoch 31 - Validation: 100%|██████████| 250/250 [03:19<00:00,  1.25it/s]\n"
          ]
        },
        {
          "output_type": "stream",
          "name": "stdout",
          "text": [
            "Epoch 31 - Train Loss: 0.1623 - Val Loss: 0.2034\n"
          ]
        },
        {
          "output_type": "stream",
          "name": "stderr",
          "text": [
            "Epoch 32 - Train: 100%|██████████| 875/875 [09:34<00:00,  1.52it/s]\n",
            "Epoch 32 - Validation: 100%|██████████| 250/250 [03:19<00:00,  1.25it/s]\n"
          ]
        },
        {
          "output_type": "stream",
          "name": "stdout",
          "text": [
            "Epoch 32 - Train Loss: 0.1615 - Val Loss: 0.2106\n"
          ]
        },
        {
          "output_type": "stream",
          "name": "stderr",
          "text": [
            "Epoch 33 - Train: 100%|██████████| 875/875 [09:34<00:00,  1.52it/s]\n",
            "Epoch 33 - Validation: 100%|██████████| 250/250 [03:19<00:00,  1.25it/s]\n"
          ]
        },
        {
          "output_type": "stream",
          "name": "stdout",
          "text": [
            "Epoch 33 - Train Loss: 0.1589 - Val Loss: 0.2021\n"
          ]
        },
        {
          "output_type": "stream",
          "name": "stderr",
          "text": [
            "Epoch 34 - Train: 100%|██████████| 875/875 [09:33<00:00,  1.52it/s]\n",
            "Epoch 34 - Validation: 100%|██████████| 250/250 [03:19<00:00,  1.25it/s]\n"
          ]
        },
        {
          "output_type": "stream",
          "name": "stdout",
          "text": [
            "Epoch 34 - Train Loss: 0.1551 - Val Loss: 0.2011\n"
          ]
        },
        {
          "output_type": "stream",
          "name": "stderr",
          "text": [
            "Epoch 35 - Train: 100%|██████████| 875/875 [09:34<00:00,  1.52it/s]\n",
            "Epoch 35 - Validation: 100%|██████████| 250/250 [03:19<00:00,  1.25it/s]\n"
          ]
        },
        {
          "output_type": "stream",
          "name": "stdout",
          "text": [
            "Epoch 35 - Train Loss: 0.1527 - Val Loss: 0.2071\n"
          ]
        },
        {
          "output_type": "stream",
          "name": "stderr",
          "text": [
            "Epoch 36 - Train: 100%|██████████| 875/875 [09:33<00:00,  1.52it/s]\n",
            "Epoch 36 - Validation: 100%|██████████| 250/250 [03:19<00:00,  1.25it/s]\n"
          ]
        },
        {
          "output_type": "stream",
          "name": "stdout",
          "text": [
            "Epoch 36 - Train Loss: 0.1534 - Val Loss: 0.2007\n"
          ]
        },
        {
          "output_type": "stream",
          "name": "stderr",
          "text": [
            "Epoch 37 - Train: 100%|██████████| 875/875 [09:33<00:00,  1.52it/s]\n",
            "Epoch 37 - Validation: 100%|██████████| 250/250 [03:19<00:00,  1.25it/s]\n"
          ]
        },
        {
          "output_type": "stream",
          "name": "stdout",
          "text": [
            "Epoch 37 - Train Loss: 0.1517 - Val Loss: 0.2048\n"
          ]
        },
        {
          "output_type": "stream",
          "name": "stderr",
          "text": [
            "Epoch 38 - Train: 100%|██████████| 875/875 [09:35<00:00,  1.52it/s]\n",
            "Epoch 38 - Validation: 100%|██████████| 250/250 [03:19<00:00,  1.26it/s]\n"
          ]
        },
        {
          "output_type": "stream",
          "name": "stdout",
          "text": [
            "Epoch 38 - Train Loss: 0.1486 - Val Loss: 0.2045\n"
          ]
        },
        {
          "output_type": "stream",
          "name": "stderr",
          "text": [
            "Epoch 39 - Train: 100%|██████████| 875/875 [09:33<00:00,  1.52it/s]\n",
            "Epoch 39 - Validation: 100%|██████████| 250/250 [03:19<00:00,  1.25it/s]\n"
          ]
        },
        {
          "output_type": "stream",
          "name": "stdout",
          "text": [
            "Epoch 39 - Train Loss: 0.1460 - Val Loss: 0.1984\n"
          ]
        },
        {
          "output_type": "stream",
          "name": "stderr",
          "text": [
            "Epoch 40 - Train: 100%|██████████| 875/875 [09:33<00:00,  1.53it/s]\n",
            "Epoch 40 - Validation: 100%|██████████| 250/250 [03:19<00:00,  1.25it/s]\n"
          ]
        },
        {
          "output_type": "stream",
          "name": "stdout",
          "text": [
            "Epoch 40 - Train Loss: 0.1427 - Val Loss: 0.1983\n",
            "Early stopping at epoch 40\n"
          ]
        }
      ],
      "source": [
        "from torch.cuda.amp import GradScaler, autocast\n",
        "scaler = torch.cuda.amp.GradScaler() # 혼합 정밀도 학습(AMP)\n",
        "\n",
        "for epoch in range(num_epochs):\n",
        "    model.train()\n",
        "    train_loss = 0\n",
        "    for images, masks in tqdm(train_loader, desc=f\"Epoch {epoch+1} - Train\"):\n",
        "        images, masks = images.to(device), masks.to(device)\n",
        "\n",
        "        optimizer.zero_grad()\n",
        "\n",
        "        # 혼합 정밀도 학습(AMP) + Optimizer & Scheduler\n",
        "        with torch.cuda.amp.autocast():  # forward + loss 계산을 autocast 안에서\n",
        "          outputs = model(images)[\"out\"]\n",
        "          loss = loss_fn(outputs, masks)\n",
        "\n",
        "        #outputs = model(images)[\"out\"]\n",
        "        #loss = loss_fn(outputs, masks)\n",
        "        #optimizer.zero_grad()\n",
        "        #loss.backward()\n",
        "        #optimizer.step()\n",
        "        #train_loss += loss.item()\n",
        "\n",
        "        scaler.scale(loss).backward()  # loss.backward() 대신\n",
        "        scaler.step(optimizer)         # optimizer.step() 대신\n",
        "        scaler.update()                # 스케일러 업데이트\n",
        "\n",
        "        train_loss += loss.item()\n",
        "        #last_train_loss = loss.item()  # 매 batch마다 덮어씀 (마지막 batch loss만 남음)\n",
        "        #train_loss_history.append(last_train_loss)  # 최종 batch loss만 기록\n",
        "\n",
        "    avg_train_loss = train_loss / len(train_loader)\n",
        "    train_loss_history.append(avg_train_loss)\n",
        "\n",
        "    # validation step\n",
        "    model.eval()\n",
        "    val_loss = 0\n",
        "    with torch.no_grad():\n",
        "        for images, masks in tqdm(val_loader, desc=f\"Epoch {epoch+1} - Validation\"):\n",
        "            images, masks = images.to(device), masks.to(device)\n",
        "            outputs = model(images)[\"out\"]\n",
        "            loss = loss_fn(outputs, masks)\n",
        "            val_loss += loss.item()\n",
        "    avg_val_loss = val_loss / len(val_loader)\n",
        "    val_loss_history.append(avg_val_loss)\n",
        "\n",
        "    # 🔽 스케줄러 step 호출\n",
        "    scheduler.step(avg_val_loss)\n",
        "\n",
        "    #print(f\"Epoch {epoch+1} - Train Loss: {last_train_loss:.4f} - Val Loss: {avg_val_loss:.4f}\")\n",
        "    print(f\"Epoch {epoch+1} - Train Loss: {avg_train_loss:.4f} - Val Loss: {avg_val_loss:.4f}\")\n",
        "\n",
        "    checkpoint_path = f\"/content/drive/MyDrive/swProject/checkpoint.pth\"\n",
        "    torch.save({\n",
        "        'epoch': epoch,\n",
        "        'model_state_dict': model.state_dict(),\n",
        "        'optimizer_state_dict': optimizer.state_dict(),\n",
        "        'scaler': scaler.state_dict(),  # AMP 사용 시\n",
        "        'best_val_loss': best_val_loss,\n",
        "        'counter': counter,\n",
        "        'train_loss_history': train_loss_history,\n",
        "        'val_loss_history': val_loss_history,\n",
        "    }, checkpoint_path) # 중간 상태 저장 -> 중단 후 재개 가능\n",
        "\n",
        "    # Early Stopping 체크\n",
        "    if avg_val_loss < best_val_loss - 0.01:\n",
        "        best_val_loss = avg_val_loss\n",
        "        counter = 0\n",
        "    else:\n",
        "        counter += 1\n",
        "        if counter >= patience:\n",
        "            print(f\"Early stopping at epoch {epoch+1}\")\n",
        "            break\n",
        "\n",
        "    # epoch 끝날 때 추가\n",
        "    with open(f\"/content/drive/MyDrive/swProject/loss_lr{lr}_w{weight[0]}-{weight[1]}_bs{batch_size}_epoch{epoch+1}.pkl\", \"wb\") as f:\n",
        "      pickle.dump({\n",
        "        'train_loss_history': train_loss_history,\n",
        "        'val_loss_history': val_loss_history}, f)"
      ]
    },
    {
      "cell_type": "code",
      "execution_count": null,
      "metadata": {
        "colab": {
          "base_uri": "https://localhost:8080/",
          "height": 642
        },
        "id": "V28H7hCiJ77L",
        "outputId": "4b90e18d-c3af-4c17-fec9-62c7f3e8a379"
      },
      "outputs": [
        {
          "output_type": "display_data",
          "data": {
            "text/plain": [
              "<Figure size 1000x600 with 1 Axes>"
            ],
            "image/png": "[encoded data removed]"
          },
          "metadata": {}
        },
        {
          "output_type": "stream",
          "name": "stdout",
          "text": [
            "✅ 최종 학습 완료\n",
            "✅ 모델 저장 완료!\n"
          ]
        }
      ],
      "source": [
        "# 학습 결과 손실 그래프 저장 및 출력\n",
        "plt.figure(figsize=(10, 6))\n",
        "plt.plot(range(1, len(train_loss_history)+1), train_loss_history, label='Train Loss')\n",
        "plt.plot(range(1, len(val_loss_history)+1), val_loss_history, label='Validation Loss')\n",
        "# Early Stopping 지점 강조\n",
        "plt.scatter(len(train_loss_history), train_loss_history[-1], color='red', label='Early Stopping Point (Train)')\n",
        "plt.scatter(len(val_loss_history), val_loss_history[-1], color='orange', label='Early Stopping Point (Validation)')\n",
        "plt.xlabel(\"Epoch\")\n",
        "plt.ylabel(\"Loss\")\n",
        "plt.title(\"Training and Validation Loss Over Epochs (with Early Stopping)\")\n",
        "plt.legend()\n",
        "plt.tight_layout()\n",
        "plt.savefig(\"final_loss_curve.png\")\n",
        "plt.show()\n",
        "\n",
        "print(\"✅ 최종 학습 완료\")\n",
        "\n",
        "# 최종 학습 완료된 모델 저장\n",
        "model_path = f\"/content/drive/MyDrive/final_model_lr{lr}_bs{batch_size}_ep{epoch+1}.pth\"\n",
        "torch.save(model.state_dict(), model_path)\n",
        "print(\"✅ 모델 저장 완료!\")"
      ]
    },
    {
      "cell_type": "code",
      "execution_count": null,
      "metadata": {
        "colab": {
          "base_uri": "https://localhost:8080/"
        },
        "id": "AS11RpbaJ-H9",
        "outputId": "2e6cce49-10d2-4bdc-9ca1-000722c912ca"
      },
      "outputs": [
        {
          "output_type": "stream",
          "name": "stderr",
          "text": [
            "Testing (DSC Evaluation): 100%|██████████| 125/125 [02:45<00:00,  1.32s/it]\n"
          ]
        },
        {
          "output_type": "stream",
          "name": "stdout",
          "text": [
            "테스트 세트 결과:\n",
            "- 평균 DSC: 0.6903 ± 0.1928\n",
            "- 평균 IoU: 0.5554 ± 0.1953\n",
            "✅ 평균/표준편차 결과 저장 완료\n",
            "✅ 이미지별 DSC/IoU 결과 저장 완료\n"
          ]
        }
      ],
      "source": [
        "# 테스트 세트 평가: Dice Similarity Coefficient (DSC)\n",
        "# argmax로 예측 마스크 생성 후 DSC 계산\n",
        "def dice_coefficient(pred_mask, true_mask, smooth=1e-6):\n",
        "    pred_mask = (pred_mask > 0.5).float()  # 확실하게 binarize\n",
        "    true_mask = (true_mask > 0.5).float()  # 확실하게 binarize\n",
        "    intersection = (pred_mask * true_mask).sum()\n",
        "    union = pred_mask.sum() + true_mask.sum()\n",
        "    dice = (2. * intersection + smooth) / (union + smooth)\n",
        "    return dice.item()\n",
        "\n",
        "def iou_score(pred_mask, true_mask, smooth=1e-6):\n",
        "    pred_mask = (pred_mask > 0.5).float()\n",
        "    true_mask = (true_mask > 0.5).float()\n",
        "    intersection = (pred_mask * true_mask).sum()\n",
        "    union = ((pred_mask + true_mask) > 0).float().sum()\n",
        "    iou = (intersection + smooth) / (union + smooth)\n",
        "    return iou.item()\n",
        "\n",
        "# 평가 실행\n",
        "model.eval()\n",
        "dsc_scores = []\n",
        "iou_scores = []\n",
        "image_metrics = []\n",
        "\n",
        "# 평균 및 표준편차 출력 + CSV 저장\n",
        "with torch.no_grad():\n",
        "    for images, masks in tqdm(test_loader, desc=\"Testing (DSC Evaluation)\"):\n",
        "        images, masks = images.to(device), masks.to(device)\n",
        "        outputs = model(images)[\"out\"]\n",
        "        preds = torch.argmax(outputs, dim=1)\n",
        "\n",
        "        for i, (pred_mask, true_mask) in enumerate(zip(preds, masks)):\n",
        "            dsc = dice_coefficient(pred_mask, true_mask)\n",
        "            iou = iou_score(pred_mask, true_mask)\n",
        "            dsc_scores.append(dsc)\n",
        "            iou_scores.append(iou)\n",
        "            image_metrics.append({\n",
        "                \"Index\": len(dsc_scores),  # 또는 실제 이미지 이름\n",
        "                \"DSC\": dsc,\n",
        "                \"IoU\": iou\n",
        "            })\n",
        "\n",
        "# 평균 및 표준편차 출력\n",
        "mean_dsc = np.mean(dsc_scores)\n",
        "std_dsc = np.std(dsc_scores)\n",
        "mean_iou = np.mean(iou_scores)\n",
        "std_iou = np.std(iou_scores)\n",
        "\n",
        "# 결과 출력\n",
        "print(f\"테스트 세트 결과:\")\n",
        "print(f\"- 평균 DSC: {mean_dsc:.4f} ± {std_dsc:.4f}\")\n",
        "print(f\"- 평균 IoU: {mean_iou:.4f} ± {std_iou:.4f}\")\n",
        "\n",
        "# 요약 결과 CSV 저장\n",
        "summary_df = pd.DataFrame({\n",
        "    'Metric': ['Mean DSC', 'Standard Deviation DSC', 'Mean IoU', 'Standard Deviation IoU'],\n",
        "    'Value': [mean_dsc, std_dsc, mean_iou, std_iou]\n",
        "})\n",
        "summary_df.to_csv(\"/content/drive/MyDrive/test_summary_metrics.csv\", index=False)\n",
        "print(\"✅ 평균/표준편차 결과 저장 완료\")\n",
        "\n",
        "# 개별 이미지별 결과 CSV 저장\n",
        "detailed_df = pd.DataFrame(image_metrics)\n",
        "detailed_df.to_csv(\"/content/drive/MyDrive/test_detailed_metrics.csv\", index=False)\n",
        "print(\"✅ 이미지별 DSC/IoU 결과 저장 완료\")"
      ]
    },
    {
      "cell_type": "code",
      "execution_count": null,
      "metadata": {
        "id": "yTirnAHQylZu",
        "colab": {
          "base_uri": "https://localhost:8080/"
        },
        "outputId": "e684b656-db19-4c8d-b949-c37b1c63c2c2"
      },
      "outputs": [
        {
          "output_type": "stream",
          "name": "stderr",
          "text": [
            "Evaluating Classification Metrics: 100%|██████████| 125/125 [01:41<00:00,  1.23it/s]"
          ]
        },
        {
          "output_type": "stream",
          "name": "stdout",
          "text": [
            "\n",
            "📊 Classification Metrics on Test Set\n",
            "▶ Accuracy : 0.8860\n",
            "▶ Precision: 0.9977\n",
            "▶ Recall   : 0.8873\n",
            "▶ F1-Score : 0.9393\n",
            "\n",
            "📊 Classification Report (sklearn)\n",
            "              precision    recall  f1-score   support\n",
            "\n",
            "           0     0.0345    0.6667    0.0656         3\n",
            "           1     0.9977    0.8873    0.9393       497\n",
            "\n",
            "    accuracy                         0.8860       500\n",
            "   macro avg     0.5161    0.7770    0.5024       500\n",
            "weighted avg     0.9920    0.8860    0.9341       500\n",
            "\n"
          ]
        },
        {
          "output_type": "stream",
          "name": "stderr",
          "text": [
            "\n"
          ]
        },
        {
          "output_type": "execute_result",
          "data": {
            "text/plain": [
              "(0.886, 0.997737556561086, 0.8873239436619719, 0.939297124600639)"
            ]
          },
          "metadata": {},
          "execution_count": 19
        }
      ],
      "source": [
        "# 분류 성능 측정\n",
        "from sklearn.metrics import accuracy_score, precision_score, recall_score, f1_score, classification_report\n",
        "\n",
        "def mask_to_label(mask):\n",
        "    \"\"\"마스크에 class 1이 하나라도 있으면 손상(1), 아니면 정상(0)\"\"\"\n",
        "    return 1 if (mask > 0).any() else 0\n",
        "\n",
        "def evaluate_classification_metrics(model, dataloader, device):\n",
        "    model.eval()\n",
        "    true_labels = []\n",
        "    pred_labels = []\n",
        "\n",
        "    with torch.no_grad():\n",
        "        for images, masks in tqdm(dataloader, desc=\"Evaluating Classification Metrics\"):\n",
        "            images = images.to(device)\n",
        "            outputs = model(images)[\"out\"]\n",
        "            preds = torch.argmax(outputs, dim=1).cpu()\n",
        "\n",
        "            for pred_mask, true_mask in zip(preds, masks):\n",
        "                pred_label = mask_to_label(pred_mask)\n",
        "                true_label = mask_to_label(true_mask)\n",
        "                pred_labels.append(pred_label)\n",
        "                true_labels.append(true_label)\n",
        "\n",
        "    acc = accuracy_score(true_labels, pred_labels)\n",
        "    prec = precision_score(true_labels, pred_labels, average=\"binary\")\n",
        "    rec = recall_score(true_labels, pred_labels)\n",
        "    f1 = f1_score(true_labels, pred_labels)\n",
        "\n",
        "    print(\"\\n📊 Classification Metrics on Test Set\")\n",
        "    print(f\"▶ Accuracy : {acc:.4f}\")\n",
        "    print(f\"▶ Precision: {prec:.4f}\")\n",
        "    print(f\"▶ Recall   : {rec:.4f}\")\n",
        "    print(f\"▶ F1-Score : {f1:.4f}\")\n",
        "\n",
        "    print(\"\\n📊 Classification Report (sklearn)\")\n",
        "    print(classification_report(true_labels, pred_labels, digits=4))\n",
        "\n",
        "    return acc, prec, rec, f1\n",
        "\n",
        "evaluate_classification_metrics(model, test_loader, device)"
      ]
    },
    {
      "cell_type": "markdown",
      "metadata": {
        "id": "0pQ7_xCaQa8f"
      },
      "source": [
        "모델 불러오가 + 오버레이"
      ]
    },
    {
      "cell_type": "code",
      "execution_count": 1,
      "metadata": {
        "id": "dZy_WbTTIHLW",
        "colab": {
          "base_uri": "https://localhost:8080/",
          "height": 245
        },
        "outputId": "8ae1e820-7f9e-45ce-f145-93abb5f7536a"
      },
      "outputs": [
        {
          "output_type": "stream",
          "name": "stderr",
          "text": [
            "Downloading: \"https://download.pytorch.org/models/resnet50-0676ba61.pth\" to /root/.cache/torch/hub/checkpoints/resnet50-0676ba61.pth\n",
            "100%|██████████| 97.8M/97.8M [00:00<00:00, 205MB/s]\n"
          ]
        },
        {
          "output_type": "error",
          "ename": "NameError",
          "evalue": "name 'nn' is not defined",
          "traceback": [
            "\u001b[0;31m---------------------------------------------------------------------------\u001b[0m",
            "\u001b[0;31mNameError\u001b[0m                                 Traceback (most recent call last)",
            "\u001b[0;32m<ipython-input-1-6514eb47703e>\u001b[0m in \u001b[0;36m<cell line: 0>\u001b[0;34m()\u001b[0m\n\u001b[1;32m     12\u001b[0m \u001b[0;31m# model = models.segmentation.deeplabv3_resnet50(weights=models.segmentation.DeepLabV3_ResNet50_Weights.DEFAULT)\u001b[0m\u001b[0;34m\u001b[0m\u001b[0;34m\u001b[0m\u001b[0m\n\u001b[1;32m     13\u001b[0m \u001b[0mmodel\u001b[0m \u001b[0;34m=\u001b[0m \u001b[0mmodels\u001b[0m\u001b[0;34m.\u001b[0m\u001b[0msegmentation\u001b[0m\u001b[0;34m.\u001b[0m\u001b[0mdeeplabv3_resnet50\u001b[0m\u001b[0;34m(\u001b[0m\u001b[0mweights\u001b[0m\u001b[0;34m=\u001b[0m\u001b[0;32mNone\u001b[0m\u001b[0;34m,\u001b[0m \u001b[0maux_loss\u001b[0m\u001b[0;34m=\u001b[0m\u001b[0;32mTrue\u001b[0m\u001b[0;34m)\u001b[0m\u001b[0;34m\u001b[0m\u001b[0;34m\u001b[0m\u001b[0m\n\u001b[0;32m---> 14\u001b[0;31m \u001b[0mmodel\u001b[0m\u001b[0;34m.\u001b[0m\u001b[0mclassifier\u001b[0m\u001b[0;34m[\u001b[0m\u001b[0;36m4\u001b[0m\u001b[0;34m]\u001b[0m \u001b[0;34m=\u001b[0m \u001b[0mnn\u001b[0m\u001b[0;34m.\u001b[0m\u001b[0mConv2d\u001b[0m\u001b[0;34m(\u001b[0m\u001b[0;36m256\u001b[0m\u001b[0;34m,\u001b[0m \u001b[0;36m2\u001b[0m\u001b[0;34m,\u001b[0m \u001b[0mkernel_size\u001b[0m\u001b[0;34m=\u001b[0m\u001b[0;36m1\u001b[0m\u001b[0;34m)\u001b[0m\u001b[0;34m\u001b[0m\u001b[0;34m\u001b[0m\u001b[0m\n\u001b[0m\u001b[1;32m     15\u001b[0m \u001b[0;31m#state_dict = torch.load(\"/content/drive/MyDrive/final_model.pth\")\u001b[0m\u001b[0;34m\u001b[0m\u001b[0;34m\u001b[0m\u001b[0m\n\u001b[1;32m     16\u001b[0m \u001b[0;31m# for key in list(state_dict.keys()):\u001b[0m\u001b[0;34m\u001b[0m\u001b[0;34m\u001b[0m\u001b[0m\n",
            "\u001b[0;31mNameError\u001b[0m: name 'nn' is not defined"
          ]
        }
      ],
      "source": [
        "import os\n",
        "import glob\n",
        "import random\n",
        "import torch\n",
        "import matplotlib.pyplot as plt\n",
        "from PIL import Image\n",
        "import numpy as np\n",
        "from torchvision import models, transforms\n",
        "import cv2\n",
        "\n",
        "# 모델 정의\n",
        "# model = models.segmentation.deeplabv3_resnet50(weights=models.segmentation.DeepLabV3_ResNet50_Weights.DEFAULT)\n",
        "model = models.segmentation.deeplabv3_resnet50(weights=None, aux_loss=True)\n",
        "model.classifier[4] = nn.Conv2d(256, 2, kernel_size=1)\n",
        "#state_dict = torch.load(\"/content/drive/MyDrive/final_model.pth\")\n",
        "# for key in list(state_dict.keys()):\n",
        "#     if \"classifier.4\" in key:\n",
        "#         del state_dict[key]\n",
        "# model.load_state_dict(state_dict, strict=False)\n",
        "model.load_state_dict(torch.load(\"/content/drive/MyDrive/final_model.pth\"))\n",
        "model.eval()\n",
        "\n",
        "device = torch.device(\"cuda\" if torch.cuda.is_available() else \"cpu\")\n",
        "model.to(device)\n",
        "\n",
        "# transform (정규화 제거)\n",
        "transform = transforms.Compose([\n",
        "    transforms.Resize((540, 960)),\n",
        "    transforms.ToTensor()\n",
        "])\n",
        "\n",
        "# 랜덤 이미지 및 마스크 가져오기\n",
        "def get_random_image_and_mask(image_dir, mask_dir):\n",
        "    image_files = sorted(glob.glob(os.path.join(image_dir, '*.*')))\n",
        "    selected_image = random.choice(image_files)\n",
        "    image_name = os.path.basename(selected_image)\n",
        "    base_name = os.path.splitext(image_name)[0]\n",
        "    mask_name = f\"{base_name}_mask.png\"\n",
        "    mask_path = os.path.join(mask_dir, mask_name)\n",
        "\n",
        "    if not os.path.exists(mask_path):\n",
        "        raise FileNotFoundError(f\"Mask not found for {selected_image}\")\n",
        "    return selected_image, mask_path\n",
        "\n",
        "# 예측 및 시각화\n",
        "def visualize_prediction_and_overlay(model, image_path, mask_path):\n",
        "    # 이미지 준비\n",
        "    image = Image.open(image_path).convert(\"RGB\")\n",
        "    input_resized = image.resize((960, 540))\n",
        "    image_tensor = transform(input_resized).unsqueeze(0).to(device)\n",
        "\n",
        "    with torch.no_grad():\n",
        "        output = model(image_tensor)[\"out\"]\n",
        "        softmax_probs = torch.softmax(output, dim=1)\n",
        "        pred = (softmax_probs[:, 1, :, :] > 0.3).cpu().numpy().squeeze().astype(np.uint8)\n",
        "\n",
        "    # 🔽 예측 마스크 후처리: 침식 (얇게)\n",
        "    # closing으로 경계 연결 + 중심 메꿈\n",
        "    # Closing: 끊긴 라인 연결\n",
        "    # kernel = np.ones((3, 3), np.uint8)\n",
        "    # pred = cv2.morphologyEx(pred, cv2.MORPH_CLOSE, kernel)\n",
        "\n",
        "    # # 예측 마스크 업데이트\n",
        "    # pred = filled_pred\n",
        "\n",
        "    # 1. 경계 연결 (작은 커널 사용)\n",
        "    kernel = np.ones((2, 2), np.uint8)  # 기존 3x3 or 7x7보다 작게\n",
        "    pred = cv2.morphologyEx(pred, cv2.MORPH_CLOSE, kernel)\n",
        "\n",
        "    # 2. 윤곽선 기반 중심 채우기\n",
        "    contours, _ = cv2.findContours(pred, cv2.RETR_EXTERNAL, cv2.CHAIN_APPROX_SIMPLE)\n",
        "\n",
        "    # 작은 윤곽선은 무시하고, 얇게 유지\n",
        "    filled_pred = np.zeros_like(pred)\n",
        "\n",
        "    for cnt in contours:\n",
        "        area = cv2.contourArea(cnt)\n",
        "        if area > 100:  # 너무 얇거나 노이즈는 무시\n",
        "            cv2.drawContours(filled_pred, [cnt], -1, 1, thickness=cv2.FILLED)\n",
        "\n",
        "    pred = filled_pred\n",
        "\n",
        "    # GT 마스크 준비\n",
        "    gt_mask = Image.open(mask_path).convert(\"L\").resize((960, 540))\n",
        "    gt = (np.array(gt_mask) > 127).astype(np.uint8)\n",
        "\n",
        "    # TP, FP, FN\n",
        "    TP = (pred == 1) & (gt == 1)\n",
        "    FP = (pred == 1) & (gt == 0)\n",
        "    FN = (pred == 0) & (gt == 1)\n",
        "\n",
        "    # 오버레이 이미지 만들기\n",
        "    overlay = np.array(input_resized).copy()\n",
        "    overlay[TP] = [255, 0, 0]    # 빨간색 (True Positive)\n",
        "    overlay[FP] = [0, 255, 0]    # 초록색 (False Positive)\n",
        "    overlay[FN] = [0, 0, 255]    # 파란색 (False Negative)\n",
        "\n",
        "    # 시각화\n",
        "    plt.figure(figsize=(20, 5))\n",
        "\n",
        "    plt.subplot(1, 4, 1)\n",
        "    plt.imshow(input_resized)\n",
        "    plt.title(\"Original Image\")\n",
        "    plt.axis('off')\n",
        "\n",
        "    plt.subplot(1, 4, 2)\n",
        "    plt.imshow(gt, cmap='gray')\n",
        "    plt.title(\"Ground Truth Mask\")\n",
        "    plt.axis('off')\n",
        "\n",
        "    plt.subplot(1, 4, 3)\n",
        "    plt.imshow(pred, cmap='gray')\n",
        "    plt.title(\"Processed Prediction\")\n",
        "    plt.axis('off')\n",
        "\n",
        "    plt.subplot(1, 4, 4)\n",
        "    plt.imshow(overlay)\n",
        "    plt.title(\"Overlay: TP=Red, FP=Green, FN=Blue\")\n",
        "    plt.axis('off')\n",
        "\n",
        "    plt.tight_layout()\n",
        "    plt.show()\n",
        "\n",
        "def visualize_multiple_predictions(model, image_dir, mask_dir, num_samples=10):\n",
        "      image_files = sorted(glob.glob(os.path.join(image_dir, '*.*')))\n",
        "      selected_files = random.sample(image_files, min(num_samples, len(image_files)))\n",
        "\n",
        "      for img_path in selected_files:\n",
        "          image_name = os.path.basename(img_path)\n",
        "          base_name = os.path.splitext(image_name)[0]\n",
        "          mask_path = os.path.join(mask_dir, f\"{base_name}_mask.png\")\n",
        "\n",
        "          if not os.path.exists(mask_path):\n",
        "              print(f\"[경고] 마스크 없음: {img_path}\")\n",
        "              continue\n",
        "\n",
        "          print(f\"[시각화 중] {img_path}\")\n",
        "          visualize_prediction_and_overlay(model, img_path, mask_path)\n",
        "\n",
        "# ✅ 실행\n",
        "print(\"▶ 손상 이미지 10장 시각화\")\n",
        "visualize_multiple_predictions(model, test_damaged_dir, test_mask_dir, num_samples=10)\n",
        "\n",
        "print(\"▶ 정상 이미지 10장 시각화\")\n",
        "visualize_multiple_predictions(model, test_normal_dir, test_mask_dir, num_samples=10)\n"
      ]
    },
    {
      "cell_type": "code",
      "execution_count": null,
      "metadata": {
        "id": "k_BrcwdG9rZL"
      },
      "outputs": [],
      "source": [
        "# import os\n",
        "# os.kill(os.getpid(), 9)  # 현재 프로세스 강제 종료\n"
      ]
    },
    {
      "cell_type": "code",
      "execution_count": null,
      "metadata": {
        "cellView": "form",
        "collapsed": true,
        "id": "FGKgscCbYKi1"
      },
      "outputs": [],
      "source": [
        "# @title\n",
        "# import os\n",
        "# import glob\n",
        "# import random\n",
        "# import torch\n",
        "# import matplotlib.pyplot as plt\n",
        "# from PIL import Image\n",
        "# import numpy as np\n",
        "\n",
        "# # 모델 구조 정의\n",
        "# model = models.segmentation.deeplabv3_resnet101(pretrained=True)\n",
        "\n",
        "# # 모델의 출력 클래스 수를 2로 설정\n",
        "# model.classifier[4] = torch.nn.Conv2d(256, 2, kernel_size=(1, 1), stride=(1, 1))\n",
        "\n",
        "# # 모델 가중치 불러오기 (strict=False로 불일치 부분 무시)\n",
        "# state_dict = torch.load(\"/content/drive/MyDrive/final_model.pth\")\n",
        "\n",
        "# # 출력 레이어만 제외한 가중치 로딩\n",
        "# for key in list(state_dict.keys()):\n",
        "#     if \"classifier.4\" in key:\n",
        "#         del state_dict[key]\n",
        "\n",
        "# model.load_state_dict(state_dict, strict=False)  # strict=False로 불일치 무시\n",
        "\n",
        "# # 모델을 평가 모드로 설정\n",
        "# model.eval()\n",
        "\n",
        "# # 모델을 GPU로 올리기\n",
        "# device = torch.device(\"cuda\" if torch.cuda.is_available() else \"cpu\")\n",
        "# model.to(device)\n",
        "\n",
        "# def get_random_image_and_mask(image_dir, mask_dir):0\n",
        "#     image_files = sorted(glob.glob(os.path.join(image_dir, '*.*')))\n",
        "#     selected_image = random.choice(image_files)\n",
        "#     image_name = os.path.basename(selected_image)\n",
        "#     base_name = os.path.splitext(image_name)[0]\n",
        "#     mask_name = f\"{base_name}_mask.png\"\n",
        "#     mask_path = os.path.join(mask_dir, mask_name)\n",
        "\n",
        "#     if not os.path.exists(mask_path):\n",
        "#         raise FileNotFoundError(f\"Mask not found for {selected_image}\")\n",
        "\n",
        "#     return selected_image, mask_path\n",
        "\n",
        "# # Transform 적용\n",
        "# transform = transforms.Compose([\n",
        "#     transforms.Resize((720, 1080)),\n",
        "#     transforms.ToTensor(),\n",
        "# ])\n",
        "\n",
        "# image_tensor = transform(image).unsqueeze(0).to(DEVICE)\n",
        "\n",
        "# # 예측\n",
        "# with torch.no_grad():\n",
        "#     output = model(image_tensor)\n",
        "\n",
        "# # 예측 결과에서 가장 높은 값의 클래스를 선택 (각 픽셀별로)\n",
        "# predicted = torch.argmax(output['out'], dim=1).squeeze().cpu().numpy()\n",
        "\n",
        "# # 원본 이미지 크기에 맞게 리사이즈\n",
        "# resize_transform = transforms.Compose([\n",
        "#     transforms.Resize((image.size[1], image.size[0]))  # 원본 이미지 크기로 리사이즈\n",
        "# ])\n",
        "\n",
        "# mask_resized = Image.fromarray(predicted.astype(np.uint8))\n",
        "# mask_resized = resize_transform(mask_resized)\n",
        "# mask_resized = np.array(mask_resized)\n",
        "\n",
        "# # 시각화\n",
        "# plt.figure(figsize=(10, 10))\n",
        "# plt.subplot(1, 3, 1)\n",
        "# plt.imshow(np.array(image))\n",
        "# plt.title('Original Image')\n",
        "# plt.axis('off')\n",
        "\n",
        "# plt.subplot(1, 3, 2)\n",
        "# plt.imshow(mask_resized, cmap='tab20b')  # 예측된 마스크에 색상 맵 적용\n",
        "# plt.title('Predicted Mask')\n",
        "# plt.axis('off')\n",
        "\n",
        "# # 오버레이\n",
        "# plt.subplot(1, 3, 3)\n",
        "# overlay = np.array(image).copy()\n",
        "\n",
        "# # 예측된 마스크에서 차선(값이 255인 부분)을 찾아 흰색으로 오버레이\n",
        "# overlay[mask_resized == 1] = [255, 255, 255]  # 차선 위치에 흰색 오버레이\n",
        "\n",
        "# plt.imshow(overlay)\n",
        "# plt.title('Overlay')\n",
        "# plt.axis('off')\n",
        "\n",
        "# plt.show()\n"
      ]
    },
    {
      "cell_type": "code",
      "execution_count": null,
      "metadata": {
        "cellView": "form",
        "id": "bFq17ZxCPzXr"
      },
      "outputs": [],
      "source": [
        "# @title\n",
        "# import numpy as np\n",
        "# import matplotlib.pyplot as plt\n",
        "# import cv2\n",
        "# from PIL import Image\n",
        "# from torchvision import transforms\n",
        "# import torch\n",
        "\n",
        "# def predict_mask(model, image_path, device='cuda'):\n",
        "#     model.eval()\n",
        "#     image = Image.open(image_path).convert(\"RGB\")\n",
        "\n",
        "#     transform = transforms.Compose([\n",
        "#         transforms.ToTensor(),\n",
        "#         transforms.Normalize(mean=[0.485, 0.456, 0.406],  # ImageNet 기준\n",
        "#                              std=[0.229, 0.224, 0.225])\n",
        "#     ])\n",
        "\n",
        "#     input_tensor = transform(image).unsqueeze(0).to(device)\n",
        "\n",
        "#     with torch.no_grad():\n",
        "#         output = model(input_tensor)\n",
        "#         if output.shape[1] == 1:  # binary segmentation\n",
        "#             pred = torch.sigmoid(output).squeeze().cpu().numpy()\n",
        "#             pred_mask = (pred > 0.5).astype(np.uint8)\n",
        "#         else:  # multi-class\n",
        "#             pred_mask = torch.argmax(output.squeeze(), dim=0).cpu().numpy()\n",
        "\n",
        "#     return np.array(image), pred_mask\n",
        "\n",
        "# def visualize_detection_result(model, image_path, gt_mask_path, device='cuda'):\n",
        "#     # Load prediction and image\n",
        "#     image_np, pred_mask = predict_mask(model, image_path, device)\n",
        "\n",
        "#     # Load ground truth mask\n",
        "#     gt_mask = Image.open(gt_mask_path).convert(\"L\")\n",
        "#     gt_mask = np.array(gt_mask)\n",
        "#     if gt_mask.max() > 1:\n",
        "#         gt_mask = (gt_mask > 127).astype(np.uint8)  # binarize if needed\n",
        "\n",
        "#     # TP, FP, FN 계산\n",
        "#     TP = (pred_mask == 1) & (gt_mask == 1)\n",
        "#     FP = (pred_mask == 1) & (gt_mask == 0)\n",
        "#     FN = (pred_mask == 0) & (gt_mask == 1)\n",
        "\n",
        "#     overlay = image_np.copy()\n",
        "\n",
        "#     # 색 오버레이\n",
        "#     overlay[TP] = [255, 0, 0]    # 빨간색\n",
        "#     overlay[FP] = [0, 255, 0]    # 녹색\n",
        "#     overlay[FN] = [0, 0, 255]    # 파란색\n",
        "\n",
        "#     # 시각화\n",
        "#     plt.figure(figsize=(18, 6))\n",
        "\n",
        "#     plt.subplot(1, 4, 1)\n",
        "#     plt.imshow(image_np)\n",
        "#     plt.title(\"Original Image\")\n",
        "#     plt.axis('off')\n",
        "\n",
        "#     plt.subplot(1, 4, 2)\n",
        "#     plt.imshow(gt_mask, cmap='gray')\n",
        "#     plt.title(\"Ground Truth Mask\")\n",
        "#     plt.axis('off')\n",
        "\n",
        "#     plt.subplot(1, 4, 3)\n",
        "#     plt.imshow(pred_mask, cmap='gray')\n",
        "#     plt.title(\"Predicted Mask\")\n",
        "#     plt.axis('off')\n",
        "\n",
        "#     plt.subplot(1, 4, 4)\n",
        "#     plt.imshow(overlay)\n",
        "#     plt.title(\"Overlay: TP(R) FP(G) FN(B)\")\n",
        "#     plt.axis('off')\n",
        "\n",
        "#     plt.tight_layout()\n",
        "#     plt.show()\n"
      ]
    },
    {
      "cell_type": "code",
      "execution_count": null,
      "metadata": {
        "cellView": "form",
        "id": "7G0rbR_wQd2Z"
      },
      "outputs": [],
      "source": [
        "# @title\n",
        "# import torch\n",
        "# from torchvision import models\n",
        "# import torch.nn as nn\n",
        "\n",
        "# # ✅ 모델 구조 다시 선언 (pretrained 로!)\n",
        "# model = models.segmentation.deeplabv3_resnet50(weights=models.segmentation.DeepLabV3_ResNet50_Weights.DEFAULT)\n",
        "# model.classifier[4] = nn.Conv2d(256, 2, kernel_size=1)\n",
        "\n",
        "# device = \"cuda\" if torch.cuda.is_available() else \"cpu\"\n",
        "# model.load_state_dict(torch.load(\"/content/drive/MyDrive/final_model.pth\", map_location=device))\n",
        "# model = model.to(device)\n",
        "# model.eval()\n",
        "\n",
        "# print(\"✅ 모델 불러오기 완료!\")\n"
      ]
    },
    {
      "cell_type": "code",
      "execution_count": null,
      "metadata": {
        "cellView": "form",
        "collapsed": true,
        "id": "Am3QBxA5iAeS"
      },
      "outputs": [],
      "source": [
        "# @title\n",
        "# # @title 그리드 탐색 루프\n",
        "# # ✅ 그리드 탐색 루프\n",
        "# for lr, weight, bs in product(learning_rates, loss_weights, batch_sizes):\n",
        "#     print(f\"\\n\\n🚀 실험 시작: lr={lr}, weight={weight}, batch_size={bs}\")\n",
        "\n",
        "#     train_dataset = LaneDataset(image_dir, mask_dir, train_ids, transform)\n",
        "#     val_dataset = LaneDataset(image_dir, mask_dir, val_ids, transform)\n",
        "\n",
        "#     if len(train_dataset) == 0:\n",
        "#         print(\"⚠️ 학습 데이터가 비어있어 건너뜁니다.\")\n",
        "#         continue\n",
        "\n",
        "#     train_loader = DataLoader(train_dataset, batch_size=bs, shuffle=True)\n",
        "#     val_loader = DataLoader(val_dataset, batch_size=bs)\n",
        "\n",
        "#     model = models.segmentation.deeplabv3_resnet50(weights=models.segmentation.DeepLabV3_ResNet50_Weights.DEFAULT)\n",
        "#     model.classifier[4] = nn.Conv2d(256, 2, kernel_size=1)\n",
        "\n",
        "#     device = torch.device(\"cuda\" if torch.cuda.is_available() else \"cpu\")\n",
        "#     model = model.to(device)\n",
        "\n",
        "#     optimizer = torch.optim.Adam(model.parameters(), lr=lr)\n",
        "#     loss_fn = nn.CrossEntropyLoss(weight=torch.tensor(weight, dtype=torch.float).to(device))\n",
        "\n",
        "#     loss_history = []\n",
        "#     num_epochs = 3\n",
        "\n",
        "#     for epoch in range(num_epochs):\n",
        "#         model.train()\n",
        "#         total_loss = 0\n",
        "#         for images, masks in tqdm(train_loader, desc=f\"Epoch {epoch+1}\"):\n",
        "#             images, masks = images.to(device), masks.to(device)\n",
        "#             outputs = model(images)[\"out\"]\n",
        "#             loss = loss_fn(outputs, masks)\n",
        "#             optimizer.zero_grad()\n",
        "#             loss.backward()\n",
        "#             optimizer.step()\n",
        "#             total_loss += loss.item()\n",
        "#         avg_loss = total_loss / len(train_loader)\n",
        "#         loss_history.append(avg_loss)\n",
        "#         print(f\"Epoch {epoch+1} - Loss: {avg_loss:.4f}\")\n",
        "\n",
        "#     # 결과 기록\n",
        "#     results.append({\n",
        "#         \"lr\": lr,\n",
        "#         \"weight\": weight,\n",
        "#         \"batch_size\": bs,\n",
        "#         \"loss_history\": loss_history\n",
        "#     })\n",
        "\n",
        "# # ✅ 전체 실험 후 그래프 출력 및 최적 조합 찾기 (평균 loss 기준)\n",
        "# import matplotlib.pyplot as plt\n",
        "# import numpy as np\n",
        "\n",
        "# plt.figure(figsize=(10, 6))\n",
        "# for result in results:\n",
        "#     lr = result[\"lr\"]\n",
        "#     weight = result[\"weight\"]\n",
        "#     bs = result[\"batch_size\"]\n",
        "#     loss_history = result[\"loss_history\"]\n",
        "#     label = f\"lr={lr}, w={weight[0]}/{weight[1]}, bs={bs}\"\n",
        "#     plt.plot(range(1, len(loss_history)+1), loss_history, label=label)\n",
        "\n",
        "# plt.xlabel(\"Epoch\")\n",
        "# plt.ylabel(\"Loss\")\n",
        "# plt.title(\"Loss Comparison for Hyperparameter Combinations\")\n",
        "# plt.legend(fontsize=\"small\")\n",
        "# plt.tight_layout()\n",
        "# plt.savefig(\"loss_comparison_all.png\")\n",
        "# plt.show()\n",
        "\n",
        "# # 평균 loss 기준 최적 조합 찾기\n",
        "# best_result = min(results, key=lambda x: np.mean(x[\"loss_history\"]))\n",
        "# mean_loss = np.mean(best_result[\"loss_history\"])\n",
        "\n",
        "# print(\"✅ 최적 조합 (평균 loss 기준):\")\n",
        "# print(f\"lr = {best_result['lr']}\")\n",
        "# print(f\"weight = {best_result['weight']}\")\n",
        "# print(f\"batch_size = {best_result['batch_size']}\")\n",
        "# print(f\"평균 loss = {mean_loss:.4f}\")"
      ]
    }
  ],
  "metadata": {
    "accelerator": "GPU",
    "colab": {
      "gpuType": "T4",
      "machine_shape": "hm",
      "provenance": [],
      "include_colab_link": true
    },
    "kernelspec": {
      "display_name": "Python 3",
      "name": "python3"
    },
    "language_info": {
      "name": "python"
    }
  },
  "nbformat": 4,
  "nbformat_minor": 0
}